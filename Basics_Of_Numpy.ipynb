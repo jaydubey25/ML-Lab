{
  "nbformat": 4,
  "nbformat_minor": 0,
  "metadata": {
    "colab": {
      "name": "Basics Of Numpy.ipynb",
      "provenance": []
    },
    "kernelspec": {
      "name": "python3",
      "display_name": "Python 3"
    },
    "language_info": {
      "name": "python"
    }
  },
  "cells": [
    {
      "cell_type": "code",
      "execution_count": 1,
      "metadata": {
        "colab": {
          "base_uri": "https://localhost:8080/"
        },
        "id": "AHh5f9FXTpwW",
        "outputId": "916f2b10-03b8-4056-e97f-0804db7f8659"
      },
      "outputs": [
        {
          "output_type": "stream",
          "name": "stdout",
          "text": [
            "3\n",
            "(3, 3, 4)\n",
            "36\n",
            "[[ 0  1  2  3  4  5  6  7]\n",
            " [ 8  9 10 11 12 13 14 15]\n",
            " [16 17 18 19 20 21 22 23]]\n"
          ]
        }
      ],
      "source": [
        "import numpy as np\n",
        "\n",
        "a=np.array([[[1,2,3,9],[3,4,5,10],[6,7,8,10]],[[1,2,3,10],[3,4,5,10],\n",
        "[6,7,8,10]],[[1,2,3,10],[3,4,5,10],[6,7,8,10]]])\n",
        "\n",
        "print(a.ndim)\n",
        "\n",
        "print(a.shape)\n",
        "\n",
        "print(a.size)\n",
        "\n",
        "a=np.arange(24).reshape(2,3,4)\n",
        "\n",
        "a.resize(3,8)\n",
        "\n",
        "print(a)"
      ]
    },
    {
      "cell_type": "code",
      "execution_count": 2,
      "metadata": {
        "colab": {
          "base_uri": "https://localhost:8080/"
        },
        "id": "VyWudg3jTzeb",
        "outputId": "5b376fee-e993-444b-a2d2-737975801368"
      },
      "outputs": [
        {
          "output_type": "stream",
          "name": "stdout",
          "text": [
            "[[1.5 2.  3. ]\n",
            " [4.  5.  6. ]]\n",
            "float64\n",
            "[[1.+0.j 2.+0.j]\n",
            " [3.+0.j 4.+0.j]]\n"
          ]
        }
      ],
      "source": [
        "b = np.array([[1.5,2,3], [4,5,6]])\n",
        "c = np.array( [ [1,2], [3,4] ], dtype=complex )\n",
        "\n",
        "print(b)\n",
        "print(b.dtype)\n",
        "\n",
        "print(c)"
      ]
    },
    {
      "cell_type": "code",
      "execution_count": 3,
      "metadata": {
        "colab": {
          "base_uri": "https://localhost:8080/"
        },
        "outputId": "bac60643-2d42-42d9-a0ac-f50339900b8c",
        "id": "gFKZUjouT7Le"
      },
      "outputs": [
        {
          "output_type": "execute_result",
          "data": {
            "text/plain": [
              "array([[1.+0.j, 2.+0.j],\n",
              "       [3.+0.j, 4.+0.j]])"
            ]
          },
          "metadata": {},
          "execution_count": 3
        }
      ],
      "source": [
        "c = np.array( [ [1,2], [3,4] ], dtype=complex )    # type of array explicitly defined\n",
        "c"
      ]
    },
    {
      "cell_type": "code",
      "execution_count": 4,
      "metadata": {
        "colab": {
          "base_uri": "https://localhost:8080/"
        },
        "outputId": "de96f66e-8e9e-4a2c-9dd7-94d146639d5b",
        "id": "jvNKpoTVUApI"
      },
      "outputs": [
        {
          "output_type": "stream",
          "name": "stdout",
          "text": [
            "[[1.5 2.  3. ]\n",
            " [4.  5.  6. ]]\n"
          ]
        },
        {
          "output_type": "execute_result",
          "data": {
            "text/plain": [
              "array([[[1, 1, 1, 1],\n",
              "        [1, 1, 1, 1],\n",
              "        [1, 1, 1, 1]],\n",
              "\n",
              "       [[1, 1, 1, 1],\n",
              "        [1, 1, 1, 1],\n",
              "        [1, 1, 1, 1]]], dtype=int16)"
            ]
          },
          "metadata": {},
          "execution_count": 4
        }
      ],
      "source": [
        "c=np.empty( (2,3) )\n",
        "print(c)\n",
        "b=np.ones( (2,3,4), dtype=np.int16 ) \n",
        "b"
      ]
    },
    {
      "cell_type": "code",
      "execution_count": 5,
      "metadata": {
        "colab": {
          "base_uri": "https://localhost:8080/"
        },
        "outputId": "5e3f52da-0356-4e24-81f1-b4032904dacb",
        "id": "xzQwVk9OUAvT"
      },
      "outputs": [
        {
          "output_type": "stream",
          "name": "stdout",
          "text": [
            "[[1.35273751e-316 3.60739284e-313 1.38338381e-322 1.35274383e-316\n",
            "  0.00000000e+000]\n",
            " [0.00000000e+000 4.94065646e-323 0.00000000e+000 0.00000000e+000\n",
            "  0.00000000e+000]]\n"
          ]
        }
      ],
      "source": [
        "b=np.ones( (2,3,4), dtype=np.int16 )\n",
        "n=np.empty((2,5))\n",
        "print(n)"
      ]
    },
    {
      "cell_type": "code",
      "execution_count": 6,
      "metadata": {
        "colab": {
          "base_uri": "https://localhost:8080/"
        },
        "outputId": "a16286c8-d58a-45a4-a51f-cf448a403db4",
        "id": "EF-fWCsPULTm"
      },
      "outputs": [
        {
          "output_type": "stream",
          "name": "stdout",
          "text": [
            "[0.         0.10526316 0.21052632 0.31578947 0.42105263 0.52631579\n",
            " 0.63157895 0.73684211 0.84210526 0.94736842 1.05263158 1.15789474\n",
            " 1.26315789 1.36842105 1.47368421 1.57894737 1.68421053 1.78947368\n",
            " 1.89473684 2.        ]\n",
            "[0]\n",
            "[0.  0.5 1.  1.5 2. ]\n",
            "[0]\n",
            "[0.   0.25 0.5  0.75 1.   1.25 1.5  1.75 2.  ]\n",
            "[0]\n"
          ]
        }
      ],
      "source": [
        "   \n",
        "c=np.linspace( 0, 2, 9 )\n",
        "ca=np.arange( 0, 2, 9 )\n",
        "b=np.linspace( 0, 2, 5 )\n",
        "ba=np.arange( 0, 2, 5 )\n",
        "a=np.linspace( 0, 2, 20 )\n",
        "\n",
        "\n",
        "aa=np.arange( 0, 2, 20 )\n",
        "\n",
        "\n",
        "\n",
        "print(a ,aa ,b,ba,c,ca, sep='\\n') "
      ]
    },
    {
      "cell_type": "code",
      "execution_count": 7,
      "metadata": {
        "colab": {
          "base_uri": "https://localhost:8080/"
        },
        "outputId": "2d2b5ca5-9078-49ac-fdbc-bf117844ceae",
        "id": "BWJiF2IpULnF"
      },
      "outputs": [
        {
          "output_type": "stream",
          "name": "stdout",
          "text": [
            "Sine of different angles:\n",
            "[0.         0.5        0.70710678 0.8660254  1.        ]\n",
            "\n",
            "\n",
            "Cosine values for angles in array:\n",
            "[1.00000000e+00 8.66025404e-01 7.07106781e-01 5.00000000e-01\n",
            " 6.12323400e-17]\n",
            "\n",
            "\n",
            "Tangent values for given angles:\n",
            "[0.00000000e+00 5.77350269e-01 1.00000000e+00 1.73205081e+00\n",
            " 1.63312394e+16]\n"
          ]
        }
      ],
      "source": [
        "import numpy as np \n",
        "a = np.array([0,30,45,60,90]) \n",
        "\n",
        "print('Sine of different angles:' )\n",
        "# Convert to radians by multiplying with pi/180 \n",
        "print(np.sin(a*np.pi/180) )\n",
        "print('\\n' ) \n",
        "\n",
        "print( 'Cosine values for angles in array:' )\n",
        "print(np.cos(a*np.pi/180))\n",
        "print ('\\n' ) \n",
        "\n",
        "print('Tangent values for given angles:' )\n",
        "print(np.tan(a*np.pi/180))"
      ]
    },
    {
      "cell_type": "code",
      "execution_count": 8,
      "metadata": {
        "colab": {
          "base_uri": "https://localhost:8080/"
        },
        "outputId": "4eef19cf-fc0a-459c-fb88-8c172239b478",
        "id": "JKhY3N4aUVdE"
      },
      "outputs": [
        {
          "output_type": "stream",
          "name": "stdout",
          "text": [
            "\n",
            "A random array:\n",
            " [[0.67310025 0.08166674]\n",
            " [0.22854315 0.10473593]]\n",
            "\n",
            "A sequential array with steps of 5:\n",
            " [ 0  5 10 15 20 25]\n",
            "\n",
            "A sequential array with 10 values between0 and 5:\n",
            " [0.         0.55555556 1.11111111 1.66666667 2.22222222 2.77777778\n",
            " 3.33333333 3.88888889 4.44444444 5.        ]\n",
            "\n",
            "Original array:\n",
            " [[1 2 3 4]\n",
            " [5 2 4 2]\n",
            " [1 2 0 1]]\n",
            "Reshaped array:\n",
            " [[[1 2 3]\n",
            "  [4 5 2]]\n",
            "\n",
            " [[4 2 1]\n",
            "  [2 0 1]]]\n",
            "\n",
            "Original array:\n",
            " [[1 2 3]\n",
            " [4 5 6]]\n",
            "Fattened array:\n",
            " [1 2 3 4 5 6]\n"
          ]
        }
      ],
      "source": [
        "e = np.random.random((2, 2)) \n",
        "print (\"\\nA random array:\\n\", e) \n",
        "  \n",
        "# Create a sequence of integers  \n",
        "# from 0 to 30 with steps of 5 \n",
        "f = np.arange(0, 30, 5) \n",
        "print (\"\\nA sequential array with steps of 5:\\n\", f) \n",
        "  \n",
        "# Create a sequence of 10 values in range 0 to 5 \n",
        "g = np.linspace(0, 5, 10) \n",
        "print (\"\\nA sequential array with 10 values between\"\n",
        "                                        \"0 and 5:\\n\", g) \n",
        "  \n",
        "# Reshaping 3X4 array to 2X2X3 array \n",
        "arr = np.array([[1, 2, 3, 4], \n",
        "                [5, 2, 4, 2], \n",
        "                [1, 2, 0, 1]]) \n",
        "  \n",
        "newarr = arr.reshape(2, 2, 3) \n",
        "  \n",
        "print (\"\\nOriginal array:\\n\", arr) \n",
        "print (\"Reshaped array:\\n\", newarr) \n",
        "  \n",
        "# Flatten array \n",
        "arr = np.array([[1, 2, 3], [4, 5, 6]]) \n",
        "flarr = arr.flatten() \n",
        "  \n",
        "print (\"\\nOriginal array:\\n\", arr) \n",
        "print (\"Fattened array:\\n\", flarr) "
      ]
    },
    {
      "cell_type": "code",
      "execution_count": 9,
      "metadata": {
        "colab": {
          "base_uri": "https://localhost:8080/"
        },
        "outputId": "258654be-99c4-4618-cd70-4c1d1e9ad4d5",
        "id": "n79YJCJ0UVkY"
      },
      "outputs": [
        {
          "output_type": "stream",
          "name": "stdout",
          "text": [
            "Vertical stacking:\n",
            " [[1 2]\n",
            " [3 4]\n",
            " [5 6]\n",
            " [7 8]]\n",
            "\n",
            "Horizontal stacking:\n",
            " [[1 2 5 6]\n",
            " [3 4 7 8]]\n",
            "\n",
            "Column stacking:\n",
            " [[1 2 5]\n",
            " [3 4 6]]\n",
            "\n",
            "Concatenating to 2nd axis:\n",
            " [[1 2 5 6]\n",
            " [3 4 7 8]]\n"
          ]
        }
      ],
      "source": [
        "import numpy as np\n",
        "  \n",
        "a = np.array([[1, 2], \n",
        "              [3, 4]]) \n",
        "  \n",
        "b = np.array([[5, 6], \n",
        "              [7, 8]]) \n",
        "  \n",
        "# vertical stacking \n",
        "print(\"Vertical stacking:\\n\", np.vstack((a, b))) \n",
        "  \n",
        "# horizontal stacking \n",
        "print(\"\\nHorizontal stacking:\\n\", np.hstack((a, b))) \n",
        "  \n",
        "c = [5, 6] \n",
        "  \n",
        "# stacking columns \n",
        "print(\"\\nColumn stacking:\\n\", np.column_stack((a, c))) \n",
        "  \n",
        "# concatenation method  \n",
        "print(\"\\nConcatenating to 2nd axis:\\n\", np.concatenate((a, b), 1)) "
      ]
    },
    {
      "cell_type": "code",
      "execution_count": 10,
      "metadata": {
        "colab": {
          "base_uri": "https://localhost:8080/"
        },
        "outputId": "c34ca689-5cdd-42d5-db7a-057523939398",
        "id": "Rn431OhPUmCm"
      },
      "outputs": [
        {
          "output_type": "stream",
          "name": "stdout",
          "text": [
            "Mounted at /content/drive\n"
          ]
        }
      ],
      "source": [
        "from google.colab import drive\n",
        "drive.mount('/content/drive') "
      ]
    },
    {
      "cell_type": "code",
      "execution_count": 11,
      "metadata": {
        "colab": {
          "base_uri": "https://localhost:8080/"
        },
        "outputId": "d632fbc7-463d-42c8-d8c4-563df3339652",
        "id": "6LnaJRTuUmPy"
      },
      "outputs": [
        {
          "output_type": "stream",
          "name": "stdout",
          "text": [
            "Splitting along horizontal axis into 2 parts:\n",
            " [array([[1, 3, 5],\n",
            "       [2, 4, 6]]), array([[ 7,  9, 11],\n",
            "       [ 8, 10, 12]])]\n",
            "\n",
            "Splitting along vertical axis into 2 parts:\n",
            " [array([[ 1,  3,  5,  7,  9, 11]]), array([[ 2,  4,  6,  8, 10, 12]])]\n"
          ]
        }
      ],
      "source": [
        "import numpy as np \n",
        "  \n",
        "a = np.array([[1, 3, 5, 7, 9, 11], \n",
        "              [2, 4, 6, 8, 10, 12]]) \n",
        "  \n",
        "# horizontal splitting \n",
        "print(\"Splitting along horizontal axis into 2 parts:\\n\", np.hsplit(a, 2)) \n",
        "  \n",
        "# vertical splitting \n",
        "print(\"\\nSplitting along vertical axis into 2 parts:\\n\", np.vsplit(a, 2))"
      ]
    },
    {
      "cell_type": "code",
      "execution_count": 12,
      "metadata": {
        "colab": {
          "base_uri": "https://localhost:8080/"
        },
        "outputId": "1cd23586-9c71-4460-b8d1-68fbba985b9f",
        "id": "6R6fd184U2QP"
      },
      "outputs": [
        {
          "output_type": "stream",
          "name": "stdout",
          "text": [
            "[ 0. 11. 22. 35.]\n"
          ]
        }
      ],
      "source": [
        "import numpy as np \n",
        "  \n",
        "a = np.array([0.0, 10.0, 20.0, 30.0])\n",
        "\n",
        "b = np.array([0.0, 1.0, 2.0,5.0]) \n",
        "\n",
        "  \n",
        "print(a + b)"
      ]
    },
    {
      "cell_type": "code",
      "execution_count": 13,
      "metadata": {
        "colab": {
          "base_uri": "https://localhost:8080/"
        },
        "outputId": "a1e97b89-c187-4025-9909-9a5e1f3af060",
        "id": "yAsjerCpU2VQ"
      },
      "outputs": [
        {
          "output_type": "stream",
          "name": "stdout",
          "text": [
            "[1 1 1]\n",
            "[0. 1. 2. 3.]\n",
            "3 0.0 3.0\n"
          ]
        }
      ],
      "source": [
        "a = np.ones(3, dtype=np.int32)\n",
        "b = np.linspace(0, 3, 4)\n",
        "print(a)\n",
        "print(b)\n",
        "print(a.sum(), b.min(), b.max())"
      ]
    }
  ]
}