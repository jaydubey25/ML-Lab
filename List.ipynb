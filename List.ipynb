{
  "nbformat": 4,
  "nbformat_minor": 0,
  "metadata": {
    "colab": {
      "name": "List.ipynb",
      "provenance": [],
      "collapsed_sections": []
    },
    "kernelspec": {
      "name": "python3",
      "display_name": "Python 3"
    },
    "language_info": {
      "name": "python"
    }
  },
  "cells": [
    {
      "cell_type": "code",
      "execution_count": 6,
      "metadata": {
        "colab": {
          "base_uri": "https://localhost:8080/"
        },
        "id": "vuokl5QLVSFo",
        "outputId": "9c138db2-c924-4532-9320-0d7506532a04"
      },
      "outputs": [
        {
          "output_type": "stream",
          "name": "stdout",
          "text": [
            "[1, 2, 3, 4, 5]\n"
          ]
        }
      ],
      "source": [
        "li=[1,2,3,4,5]\n",
        "print(li)"
      ]
    },
    {
      "cell_type": "code",
      "execution_count": 7,
      "metadata": {
        "colab": {
          "base_uri": "https://localhost:8080/"
        },
        "id": "uQzU7_XfVUwe",
        "outputId": "7b3d8100-17ab-4951-cb2c-21abe8fb0d92"
      },
      "outputs": [
        {
          "output_type": "stream",
          "name": "stdout",
          "text": [
            "[1, 2, 3, 4, 5]\n"
          ]
        }
      ],
      "source": [
        "pli=[5,7,1,9,3,5]\n",
        "li.sort()\n",
        "print(li)"
      ]
    },
    {
      "cell_type": "code",
      "execution_count": 8,
      "metadata": {
        "colab": {
          "base_uri": "https://localhost:8080/"
        },
        "id": "SNyiZ2eiVU5v",
        "outputId": "c8583b64-d8fd-497c-9e7a-a921c70b8ec0"
      },
      "outputs": [
        {
          "output_type": "stream",
          "name": "stdout",
          "text": [
            "[1, 3, 5, 5, 7, 9]\n"
          ]
        }
      ],
      "source": [
        "li=[5,7,1,9,3,5]\n",
        "print(sorted(li))"
      ]
    },
    {
      "cell_type": "code",
      "execution_count": 9,
      "metadata": {
        "colab": {
          "base_uri": "https://localhost:8080/"
        },
        "outputId": "abaa8d5a-8898-4e39-c1d8-1cc205505be3",
        "id": "8DsKj8rbVgV8"
      },
      "outputs": [
        {
          "output_type": "stream",
          "name": "stdout",
          "text": [
            "[5, 7, 1, 9, 3, 5, 'Jay']\n"
          ]
        }
      ],
      "source": [
        "li.append(\"Jay\")\n",
        "print(li)"
      ]
    },
    {
      "cell_type": "code",
      "execution_count": 10,
      "metadata": {
        "colab": {
          "base_uri": "https://localhost:8080/"
        },
        "outputId": "d9cc222d-3fbe-40a0-840d-69227310fae7",
        "id": "o9mYYxFhVgeY"
      },
      "outputs": [
        {
          "output_type": "stream",
          "name": "stdout",
          "text": [
            "5\n",
            "['0827CI191027', 'Jay', 5, 50, 90]\n"
          ]
        }
      ],
      "source": [
        "print(li[0])\n",
        "li=[\"0827CI191027\",\"Jay\",5,50,90]\n",
        "print(li)"
      ]
    },
    {
      "cell_type": "code",
      "execution_count": 11,
      "metadata": {
        "colab": {
          "base_uri": "https://localhost:8080/"
        },
        "id": "ZQz-s3GwVvvr",
        "outputId": "a3eda02a-4628-44b7-d15e-1cb7b633d38c"
      },
      "outputs": [
        {
          "output_type": "stream",
          "name": "stdout",
          "text": [
            "90\n",
            "['0827CI191027', 'Jay', 5, 50]\n"
          ]
        }
      ],
      "source": [
        "print(li.pop())\n",
        "print(li[:])"
      ]
    },
    {
      "cell_type": "code",
      "execution_count": 12,
      "metadata": {
        "colab": {
          "base_uri": "https://localhost:8080/"
        },
        "id": "10e2OMGmVvzp",
        "outputId": "7f4135c8-cbab-4768-e29c-2a98a41cfd76"
      },
      "outputs": [
        {
          "output_type": "stream",
          "name": "stdout",
          "text": [
            "5\n",
            "1\n",
            "[50, 5, 'Jay', '0827CI191027']\n",
            "['0827CI191027', 'Jay', 5, 50]\n",
            "[50, 5, 'Jay']\n"
          ]
        }
      ],
      "source": [
        "a=[1,2,3,4,5]\n",
        "print(max(a))\n",
        "print(min(a))\n",
        "li.reverse()\n",
        "print(li)\n",
        "c=list(reversed(li))\n",
        "print(c)\n",
        "b=li[0:3]\n",
        "print(b)"
      ]
    },
    {
      "cell_type": "code",
      "execution_count": 13,
      "metadata": {
        "colab": {
          "base_uri": "https://localhost:8080/"
        },
        "outputId": "e7ac5570-2548-4a1b-8e20-c8c9584af6f9",
        "id": "3verbb_yXxsb"
      },
      "outputs": [
        {
          "output_type": "stream",
          "name": "stdout",
          "text": [
            "[1, 2, 3, 4, 5, 1]\n",
            "[1, 2, 3, 4, 5, 1, 'Jay', 'Dubey']\n",
            "['Dubey', 'Jay', 1, 5, 4, 3, 2, 1]\n"
          ]
        }
      ],
      "source": [
        "a.append(1)\n",
        "print(a)\n",
        "\n",
        "a.extend([\"Jay\",\"Dubey\"])\n",
        "print(a)\n",
        "\n",
        "print(a[: :-1])"
      ]
    },
    {
      "cell_type": "code",
      "execution_count": 14,
      "metadata": {
        "colab": {
          "base_uri": "https://localhost:8080/"
        },
        "outputId": "1f0ad105-b1d1-476c-960d-05ca1b322269",
        "id": "rOFYe8-RX6o_"
      },
      "outputs": [
        {
          "output_type": "stream",
          "name": "stdout",
          "text": [
            "(1, 2, 3, 4)\n",
            "[0, 2, 4, 6, 8, 10, 12, 14, 16, 18, 20]\n",
            "[20, 18, 16, 14, 12, 10, 8, 6, 4, 2, 0] ------\n",
            "[3, 2, 1, 0]\n",
            "[12, 10, 8, 6, 4, 2]\n",
            "[4, 6]\n"
          ]
        }
      ],
      "source": [
        "t=(1,2,3,4)\n",
        "print(t)\n",
        "\n",
        "t1=(3,4,5,6)\n",
        "t+t1\n",
        "\n",
        "lis=[0,1,2,3,4,5,6,7,8,9,10,11,12,13,14,15,16,17,18,19,20]\n",
        "print(lis[::2])\n",
        "print(lis[::-2],\"------\")\n",
        "print(lis[3::-1])\n",
        "print(lis[12:0:-2])\n",
        "\n",
        "t3=[i for i in t1 if i%2==0]\n",
        "print(t3)"
      ]
    }
  ]
}