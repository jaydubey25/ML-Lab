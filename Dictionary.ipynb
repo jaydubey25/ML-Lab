{
  "nbformat": 4,
  "nbformat_minor": 0,
  "metadata": {
    "colab": {
      "name": "Dictionary.ipynb",
      "provenance": []
    },
    "kernelspec": {
      "name": "python3",
      "display_name": "Python 3"
    },
    "language_info": {
      "name": "python"
    }
  },
  "cells": [
    {
      "cell_type": "code",
      "source": [
        ""
      ],
      "metadata": {
        "id": "ByUVN-QWYxqh"
      },
      "execution_count": null,
      "outputs": []
    },
    {
      "cell_type": "code",
      "execution_count": null,
      "metadata": {
        "id": "mw0hltkfYzlF"
      },
      "outputs": [],
      "source": [
        "birthday={\"jan\":0,\"feb\":0,\"mar\":0,\"apr\":0,\"may\":1,\"june\":0,\"july\":0,\"aug\":0,\"sep\":0,\"oct\":0,\"nov\":0,\"dec\":0}\n",
        "while(True):\n",
        "  mon=input()\n",
        "  if mon ==\"\":\n",
        "    break\n",
        "  else:\n",
        "    birthday[mon]=birthday[mon]+1\n",
        "\n",
        "minv=birthday[\"jan\"]\n",
        "for i in birthday.keys():\n",
        "  if birthday[i]<minv:\n",
        "    minv=birthday[i]\n",
        "\n",
        "maxv=birthday[\"jan\"]\n",
        "for i in birthday.keys():\n",
        "  if birthday[i]>maxv:\n",
        "    maxv=birthday[i]\n",
        "\n",
        "print(birthday)\n",
        "print(f\"Minimum no of birthday in a month are {minv} \")\n",
        "print(f\"Maximum no of birthday in a month are {maxv} \")"
      ]
    }
  ]
}