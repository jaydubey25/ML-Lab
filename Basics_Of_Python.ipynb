{
  "nbformat": 4,
  "nbformat_minor": 0,
  "metadata": {
    "colab": {
      "name": "Basics Of Python.ipynb",
      "provenance": []
    },
    "kernelspec": {
      "name": "python3",
      "display_name": "Python 3"
    },
    "language_info": {
      "name": "python"
    }
  },
  "cells": [
    {
      "cell_type": "code",
      "execution_count": 1,
      "metadata": {
        "colab": {
          "base_uri": "https://localhost:8080/"
        },
        "id": "ITDojgb8Samb",
        "outputId": "a946a439-8d11-4d63-80de-06e8c5f0a9b5"
      },
      "outputs": [
        {
          "output_type": "stream",
          "name": "stdout",
          "text": [
            "[13, 65, 7, 23, 54, 19, 100, 70]\n"
          ]
        }
      ],
      "source": [
        "li = [13,65,7,23,54,19]\n",
        "li.append(100)\n",
        "li.append(70)\n",
        "print(li)"
      ]
    },
    {
      "cell_type": "code",
      "execution_count": 2,
      "metadata": {
        "colab": {
          "base_uri": "https://localhost:8080/"
        },
        "outputId": "f9004500-a5db-4468-f4e0-d0e13c0fe07f",
        "id": "qz27J8y0SlhK"
      },
      "outputs": [
        {
          "output_type": "stream",
          "name": "stdout",
          "text": [
            "[13, 65, 7, 23, 54, 19, 100, 101]\n"
          ]
        }
      ],
      "source": [
        "li = [13,65,7,23,54,19]\n",
        "li.extend([100,101])\n",
        "print(li)"
      ]
    },
    {
      "cell_type": "code",
      "execution_count": 3,
      "metadata": {
        "colab": {
          "base_uri": "https://localhost:8080/"
        },
        "outputId": "2491b38b-a23c-432b-db74-50ab37046b79",
        "id": "kJFQAvHVSuiq"
      },
      "outputs": [
        {
          "output_type": "stream",
          "name": "stdout",
          "text": [
            "[13, 65, 7, 23, 54, 23, 19, 100, 101]\n"
          ]
        }
      ],
      "source": [
        "li = [13, 65, 7, 23, 54, 19, 100, 101]\n",
        "li.insert(5,23)\n",
        "print(li)"
      ]
    },
    {
      "cell_type": "code",
      "execution_count": 4,
      "metadata": {
        "colab": {
          "base_uri": "https://localhost:8080/"
        },
        "outputId": "fdef3141-6375-4ae7-9615-047a7e0ffd8d",
        "id": "FuekY2J1Sz07"
      },
      "outputs": [
        {
          "output_type": "stream",
          "name": "stdout",
          "text": [
            "[13, 65, 7, 23, 54, 23, 100, 101]\n"
          ]
        }
      ],
      "source": [
        "li = [13, 65, 7, 23, 54, 23, 19, 100, 101]\n",
        "li.remove(19)\n",
        "print(li)"
      ]
    },
    {
      "cell_type": "code",
      "execution_count": 5,
      "metadata": {
        "colab": {
          "base_uri": "https://localhost:8080/"
        },
        "outputId": "835b359d-e6b5-4e38-df19-13404602850d",
        "id": "DaNpgKAFS5eG"
      },
      "outputs": [
        {
          "output_type": "stream",
          "name": "stdout",
          "text": [
            "[13, 65, 7, 23, 23, 101]\n"
          ]
        }
      ],
      "source": [
        "li = [13, 65, 7, 23, 54, 23, 101]\n",
        "li.pop(4)\n",
        "print(li)"
      ]
    },
    {
      "cell_type": "code",
      "execution_count": 6,
      "metadata": {
        "colab": {
          "base_uri": "https://localhost:8080/"
        },
        "outputId": "c7f93db5-d4db-4a8c-e6d8-587c4995aea1",
        "id": "3cf7k0tDS6En"
      },
      "outputs": [
        {
          "output_type": "stream",
          "name": "stdout",
          "text": [
            "[13, 65, 7, 23]\n",
            "[7, 23, 23, 101]\n",
            "[7, 23]\n",
            "[13, 65, 7, 23, 23, 101]\n"
          ]
        }
      ],
      "source": [
        "li = [13, 65, 7, 23, 23, 101]\n",
        "print(li[:4])  \n",
        "print(li[2:]) \n",
        "print(li[2:4]) \n",
        "print(li[:])"
      ]
    },
    {
      "cell_type": "code",
      "execution_count": 9,
      "metadata": {
        "colab": {
          "base_uri": "https://localhost:8080/"
        },
        "outputId": "11b7a936-0ca0-4bde-e65c-3ad467fad073",
        "id": "gv6XHgAjTEAf"
      },
      "outputs": [
        {
          "output_type": "stream",
          "name": "stdout",
          "text": [
            "[101, 23, 23, 7, 65, 13]\n"
          ]
        }
      ],
      "source": [
        "li = [13, 65, 7, 23, 23, 101]\n",
        "li.reverse()\n",
        "print(li)"
      ]
    },
    {
      "cell_type": "code",
      "execution_count": 8,
      "metadata": {
        "colab": {
          "base_uri": "https://localhost:8080/"
        },
        "outputId": "876dd7fa-6d6c-4bba-f6bd-7fc49ae61620",
        "id": "RT38TdDeTJZ-"
      },
      "outputs": [
        {
          "output_type": "stream",
          "name": "stdout",
          "text": [
            "6\n"
          ]
        }
      ],
      "source": [
        "li = [13, 65, 7, 23, 23, 101]\n",
        "print(len(li))"
      ]
    },
    {
      "cell_type": "code",
      "execution_count": 10,
      "metadata": {
        "colab": {
          "base_uri": "https://localhost:8080/"
        },
        "outputId": "d4b1f023-0835-4b1a-a611-bc077bb36d60",
        "id": "ziVHkh3lTJmS"
      },
      "outputs": [
        {
          "output_type": "stream",
          "name": "stdout",
          "text": [
            "7\n",
            "101\n",
            "2\n"
          ]
        }
      ],
      "source": [
        "li = [13, 65, 7, 23, 23, 101]\n",
        "print(min(li))\n",
        "print(max(li))\n",
        "print(li.count(23))"
      ]
    },
    {
      "cell_type": "code",
      "execution_count": 11,
      "metadata": {
        "colab": {
          "base_uri": "https://localhost:8080/"
        },
        "outputId": "926cec7e-9a5f-40cd-b366-d24cb7f56536",
        "id": "sXEL32oQTU91"
      },
      "outputs": [
        {
          "output_type": "stream",
          "name": "stdout",
          "text": [
            "[25, 20, 7, 30, 8, 31, 19, 14, 3, 9, 24, 20, 10, 8, 26]\n",
            "[2, 26, 26, 8, 1]\n",
            "[]\n"
          ]
        }
      ],
      "source": [
        "List = [2,26,26,8,1,10,1,20,8,24,20,9,12,3,1,14,12,19,20,31,3,8,31,30,275,7,14,20,1,25]\n",
        "print(List[::-2])\n",
        "print(List[:5])\n",
        "print(List[3:12:-2])"
      ]
    }
  ]
}